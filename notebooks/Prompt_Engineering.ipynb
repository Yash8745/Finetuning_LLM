{
 "cells": [
  {
   "cell_type": "code",
   "execution_count": 1,
   "metadata": {},
   "outputs": [
    {
     "name": "stderr",
     "output_type": "stream",
     "text": [
      "c:\\Users\\naran\\anaconda3\\envs\\finetune_env\\lib\\site-packages\\tqdm\\auto.py:21: TqdmWarning: IProgress not found. Please update jupyter and ipywidgets. See https://ipywidgets.readthedocs.io/en/stable/user_install.html\n",
      "  from .autonotebook import tqdm as notebook_tqdm\n",
      "Some weights of DistilBertForSequenceClassification were not initialized from the model checkpoint at distilbert-base-uncased and are newly initialized: ['classifier.bias', 'classifier.weight', 'pre_classifier.bias', 'pre_classifier.weight']\n",
      "You should probably TRAIN this model on a down-stream task to be able to use it for predictions and inference.\n",
      "c:\\Users\\naran\\anaconda3\\envs\\finetune_env\\lib\\site-packages\\transformers\\training_args.py:1575: FutureWarning: `evaluation_strategy` is deprecated and will be removed in version 4.46 of 🤗 Transformers. Use `eval_strategy` instead\n",
      "  warnings.warn(\n",
      "                                             \n",
      " 33%|███▎      | 1/3 [00:00<00:00,  2.30it/s]"
     ]
    },
    {
     "name": "stdout",
     "output_type": "stream",
     "text": [
      "{'eval_loss': 1.0830050706863403, 'eval_runtime': 0.0316, 'eval_samples_per_second': 31.664, 'eval_steps_per_second': 31.664, 'epoch': 1.0}\n"
     ]
    },
    {
     "name": "stderr",
     "output_type": "stream",
     "text": [
      "                                             \n",
      "100%|██████████| 3/3 [00:00<00:00,  5.99it/s]"
     ]
    },
    {
     "name": "stdout",
     "output_type": "stream",
     "text": [
      "{'eval_loss': 1.1082273721694946, 'eval_runtime': 0.0377, 'eval_samples_per_second': 26.524, 'eval_steps_per_second': 26.524, 'epoch': 2.0}\n"
     ]
    },
    {
     "name": "stderr",
     "output_type": "stream",
     "text": [
      "                                             \n",
      "100%|██████████| 3/3 [00:08<00:00,  2.73s/it]\n"
     ]
    },
    {
     "name": "stdout",
     "output_type": "stream",
     "text": [
      "{'eval_loss': 1.1225230693817139, 'eval_runtime': 0.0134, 'eval_samples_per_second': 74.783, 'eval_steps_per_second': 74.783, 'epoch': 3.0}\n",
      "{'train_runtime': 8.1853, 'train_samples_per_second': 1.466, 'train_steps_per_second': 0.367, 'train_loss': 1.0428200562795003, 'epoch': 3.0}\n"
     ]
    },
    {
     "name": "stderr",
     "output_type": "stream",
     "text": [
      "100%|██████████| 1/1 [00:00<00:00, 1002.46it/s]"
     ]
    },
    {
     "name": "stdout",
     "output_type": "stream",
     "text": [
      "Model accuracy: 0.00%\n"
     ]
    },
    {
     "name": "stderr",
     "output_type": "stream",
     "text": [
      "\n"
     ]
    }
   ],
   "source": [
    "import os\n",
    "import json\n",
    "from typing import List, Dict, Optional\n",
    "import time\n",
    "from datetime import datetime\n",
    "import torch\n",
    "from transformers import DistilBertTokenizer, DistilBertForSequenceClassification, Trainer, TrainingArguments\n",
    "from sklearn.model_selection import train_test_split\n",
    "from datasets import Dataset\n",
    "\n",
    "class PromptEngineeringTrainer:\n",
    "    def __init__(self, model_name: str = \"distilbert-base-uncased\", num_labels: int = 3):\n",
    "        \"\"\"\n",
    "        Initialize the trainer with model settings\n",
    "        \n",
    "        Args:\n",
    "            model_name: Name of the model to use\n",
    "            num_labels: Number of labels for classification task\n",
    "        \"\"\"\n",
    "        self.model_name = model_name\n",
    "        self.tokenizer = DistilBertTokenizer.from_pretrained(model_name)\n",
    "        self.model = DistilBertForSequenceClassification.from_pretrained(model_name, num_labels=num_labels)\n",
    "        self.results = []\n",
    "        \n",
    "    def tokenize_data(self, data: List[Dict[str, str]]) -> Dataset:\n",
    "        \"\"\"\n",
    "        Tokenize the data into input format compatible with the model\n",
    "        \n",
    "        Args:\n",
    "            data: List of dictionaries containing input/output pairs\n",
    "            \n",
    "        Returns:\n",
    "            Tokenized Dataset\n",
    "        \"\"\"\n",
    "        texts = [item['input'] for item in data]\n",
    "        labels = [self.get_label(item['output']) for item in data]  # Map output to numerical labels\n",
    "        encodings = self.tokenizer(texts, truncation=True, padding=True, max_length=128)\n",
    "        return Dataset.from_dict({'input_ids': encodings['input_ids'], 'attention_mask': encodings['attention_mask'], 'labels': labels})\n",
    "\n",
    "    def get_label(self, label: str) -> int:\n",
    "        \"\"\"\n",
    "        Convert the output label to a numerical representation\n",
    "        \n",
    "        Args:\n",
    "            label: The label to convert ('positive', 'negative', 'neutral')\n",
    "            \n",
    "        Returns:\n",
    "            Integer representation of the label\n",
    "        \"\"\"\n",
    "        label_map = {'positive': 0, 'negative': 1, 'neutral': 2}\n",
    "        return label_map.get(label.lower(), -1)  # Default to -1 if label is unknown\n",
    "    \n",
    "    def train_and_evaluate(self, training_data: List[Dict[str, str]], test_size: float = 0.2):\n",
    "        \"\"\"\n",
    "        Train and evaluate the model\n",
    "        \n",
    "        Args:\n",
    "            training_data: List of dictionaries containing input/output pairs\n",
    "            test_size: Proportion of data to use for testing\n",
    "        \"\"\"\n",
    "        # Split data into train and test sets\n",
    "        train_data, test_data = train_test_split(training_data, test_size=test_size, random_state=42)\n",
    "        \n",
    "        # Tokenize the data\n",
    "        train_dataset = self.tokenize_data(train_data)\n",
    "        test_dataset = self.tokenize_data(test_data)\n",
    "        \n",
    "        # Training arguments\n",
    "        training_args = TrainingArguments(\n",
    "            output_dir=\"./results\",\n",
    "            evaluation_strategy=\"epoch\",\n",
    "            per_device_train_batch_size=8,\n",
    "            per_device_eval_batch_size=8,\n",
    "            num_train_epochs=3,\n",
    "            logging_dir=\"./logs\",\n",
    "        )\n",
    "        \n",
    "        # Trainer\n",
    "        trainer = Trainer(\n",
    "            model=self.model,\n",
    "            args=training_args,\n",
    "            train_dataset=train_dataset,\n",
    "            eval_dataset=test_dataset,\n",
    "        )\n",
    "        \n",
    "        # Train the model\n",
    "        trainer.train()\n",
    "        \n",
    "        # Evaluate the model\n",
    "        eval_results = trainer.evaluate()\n",
    "        accuracy = eval_results['eval_accuracy'] if 'eval_accuracy' in eval_results else 0\n",
    "        \n",
    "        return accuracy\n",
    "    \n",
    "    def save_results(self, filename: str):\n",
    "        \"\"\"\n",
    "        Save training results to a JSON file\n",
    "        \n",
    "        Args:\n",
    "            filename: Name of the file to save results\n",
    "        \"\"\"\n",
    "        output = {\n",
    "            'model': self.model_name,\n",
    "            'timestamp': datetime.now().isoformat(),\n",
    "            'results': self.results\n",
    "        }\n",
    "        \n",
    "        with open(filename, 'w') as f:\n",
    "            json.dump(output, f, indent=2)\n",
    "\n",
    "# Example usage\n",
    "def main():\n",
    "    # Sample training data (sentiment analysis example)\n",
    "    training_data = [\n",
    "        {'input': 'This movie was absolutely fantastic!', 'output': 'positive'},\n",
    "        {'input': 'I really hated every minute of it.', 'output': 'negative'},\n",
    "        {'input': 'The product arrived on time but was damaged.', 'output': 'negative'},\n",
    "        {'input': 'Great customer service and fast shipping!', 'output': 'positive'},\n",
    "        {'input': 'It was okay, nothing special.', 'output': 'neutral'},\n",
    "        # Add more examples as needed\n",
    "    ]\n",
    "    \n",
    "    # Initialize trainer\n",
    "    trainer = PromptEngineeringTrainer(\n",
    "        model_name=\"distilbert-base-uncased\",  # You can choose other models like 'bert-base-uncased', 't5-small', etc.\n",
    "        num_labels=3  # Number of sentiment classes (positive, negative, neutral)\n",
    "    )\n",
    "    \n",
    "    # Train and evaluate\n",
    "    accuracy = trainer.train_and_evaluate(training_data)\n",
    "    print(f\"Model accuracy: {accuracy:.2%}\")\n",
    "    \n",
    "    # Save results\n",
    "    trainer.save_results(\"training_results.json\")\n",
    "\n",
    "if __name__ == \"__main__\":\n",
    "    main()\n"
   ]
  },
  {
   "cell_type": "code",
   "execution_count": null,
   "metadata": {},
   "outputs": [],
   "source": []
  }
 ],
 "metadata": {
  "kernelspec": {
   "display_name": "finetune_env",
   "language": "python",
   "name": "python3"
  },
  "language_info": {
   "codemirror_mode": {
    "name": "ipython",
    "version": 3
   },
   "file_extension": ".py",
   "mimetype": "text/x-python",
   "name": "python",
   "nbconvert_exporter": "python",
   "pygments_lexer": "ipython3",
   "version": "3.10.16"
  }
 },
 "nbformat": 4,
 "nbformat_minor": 2
}
